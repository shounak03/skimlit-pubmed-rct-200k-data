{
  "cells": [
    {
      "cell_type": "code",
      "execution_count": 1,
      "metadata": {
        "colab": {
          "base_uri": "https://localhost:8080/"
        },
        "id": "ZOXKxRYeEvB5",
        "outputId": "aec3540c-e1d3-4d23-c626-8debbec32ce9"
      },
      "outputs": [
        {
          "name": "stderr",
          "output_type": "stream",
          "text": [
            "Cloning into 'pubmed-rct'...\n"
          ]
        }
      ],
      "source": [
        "!git clone https://github.com/Franck-Dernoncourt/pubmed-rct.git"
      ]
    },
    {
      "cell_type": "code",
      "execution_count": null,
      "metadata": {
        "id": "IyRc1WRDBLnC"
      },
      "outputs": [],
      "source": [
        "data_dir = \"pubmed-rct/PubMed_20k_RCT_numbers_replaced_with_at_sign/\""
      ]
    },
    {
      "cell_type": "code",
      "execution_count": null,
      "metadata": {
        "colab": {
          "base_uri": "https://localhost:8080/"
        },
        "id": "zOXOL1eSBP5v",
        "outputId": "27d4cd71-1ece-4ffa-edba-9899e9f18c03"
      },
      "outputs": [
        {
          "data": {
            "text/plain": [
              "['pubmed-rct/PubMed_20k_RCT_numbers_replaced_with_at_sign/train.txt',\n",
              " 'pubmed-rct/PubMed_20k_RCT_numbers_replaced_with_at_sign/test.txt',\n",
              " 'pubmed-rct/PubMed_20k_RCT_numbers_replaced_with_at_sign/dev.txt']"
            ]
          },
          "execution_count": 5,
          "metadata": {},
          "output_type": "execute_result"
        }
      ],
      "source": [
        "import os\n",
        "filename = [data_dir + filename for filename in os.listdir(data_dir)]\n",
        "filename"
      ]
    },
    {
      "cell_type": "markdown",
      "metadata": {
        "id": "pzVF1YiDGazF"
      },
      "source": [
        "# **PRE-PROCESSING OUR DATA**"
      ]
    },
    {
      "cell_type": "code",
      "execution_count": null,
      "metadata": {
        "id": "ZymiGQvSGg0w"
      },
      "outputs": [],
      "source": [
        "def read_file(filename):\n",
        "  with open(filename, 'r') as f:\n",
        "    return f.readlines()"
      ]
    },
    {
      "cell_type": "code",
      "execution_count": null,
      "metadata": {
        "id": "NkqHvgV6KezH"
      },
      "outputs": [],
      "source": [
        "def preprocess_data(filename):\n",
        "  lines = read_file(filename)\n",
        "  abstract_lines = \"\"\n",
        "  abstract_list = []\n",
        "\n",
        "  for i in lines:\n",
        "    if i.startswith(\"###\"):\n",
        "      abstract_id = i\n",
        "      abstract_lines = \"\"\n",
        "    elif i.isspace():\n",
        "      abs_line_split = abstract_lines.splitlines()\n",
        "      for abs_line_number, abs_line in enumerate(abs_line_split):\n",
        "        line_data = {}\n",
        "        target_text = abs_line.split(\"\\t\")\n",
        "        line_data[\"target\"] = target_text[0]\n",
        "        line_data[\"data\"] = target_text[1].lower()\n",
        "        line_data[\"line_number\"] = abs_line_number\n",
        "        line_data[\"total_line\"] = len(abs_line_split)-1\n",
        "        abstract_list.append(line_data)\n",
        "\n",
        "    else:\n",
        "      abstract_lines += i\n",
        "\n",
        "  return abstract_list"
      ]
    },
    {
      "cell_type": "code",
      "execution_count": null,
      "metadata": {
        "colab": {
          "base_uri": "https://localhost:8080/"
        },
        "id": "IMmu28moPgyC",
        "outputId": "86444cb5-d3b5-4fac-a70d-f5662e285415"
      },
      "outputs": [
        {
          "name": "stdout",
          "output_type": "stream",
          "text": [
            "CPU times: user 365 ms, sys: 91.8 ms, total: 457 ms\n",
            "Wall time: 457 ms\n"
          ]
        },
        {
          "data": {
            "text/plain": [
              "(180040, 30212, 30135)"
            ]
          },
          "execution_count": 8,
          "metadata": {},
          "output_type": "execute_result"
        }
      ],
      "source": [
        "\n",
        "train_samples = preprocess_data(data_dir + \"train.txt\")\n",
        "val_samples = preprocess_data(data_dir + \"dev.txt\")\n",
        "test_samples = preprocess_data(data_dir + \"test.txt\")\n",
        "len(train_samples), len(val_samples), len(test_samples)\n"
      ]
    },
    {
      "cell_type": "code",
      "execution_count": null,
      "metadata": {
        "id": "Z6kHt5XRSpIl"
      },
      "outputs": [],
      "source": [
        "import pandas as pd\n",
        "train_df = pd.DataFrame(train_samples)\n",
        "val_df = pd.DataFrame(val_samples)\n",
        "test_df = pd.DataFrame(test_samples)"
      ]
    },
    {
      "cell_type": "code",
      "execution_count": null,
      "metadata": {
        "colab": {
          "base_uri": "https://localhost:8080/",
          "height": 206
        },
        "collapsed": true,
        "id": "8-gj9OwpZn_V",
        "outputId": "05f616d3-3d43-4acd-8507-41aaaef27842"
      },
      "outputs": [
        {
          "data": {
            "application/vnd.google.colaboratory.intrinsic+json": {
              "type": "dataframe",
              "variable_name": "train_df"
            },
            "text/html": [
              "\n",
              "  <div id=\"df-669cb583-0c3e-4625-b158-8ddda4ed0550\" class=\"colab-df-container\">\n",
              "    <div>\n",
              "<style scoped>\n",
              "    .dataframe tbody tr th:only-of-type {\n",
              "        vertical-align: middle;\n",
              "    }\n",
              "\n",
              "    .dataframe tbody tr th {\n",
              "        vertical-align: top;\n",
              "    }\n",
              "\n",
              "    .dataframe thead th {\n",
              "        text-align: right;\n",
              "    }\n",
              "</style>\n",
              "<table border=\"1\" class=\"dataframe\">\n",
              "  <thead>\n",
              "    <tr style=\"text-align: right;\">\n",
              "      <th></th>\n",
              "      <th>target</th>\n",
              "      <th>data</th>\n",
              "      <th>line_number</th>\n",
              "      <th>total_line</th>\n",
              "    </tr>\n",
              "  </thead>\n",
              "  <tbody>\n",
              "    <tr>\n",
              "      <th>0</th>\n",
              "      <td>OBJECTIVE</td>\n",
              "      <td>to investigate the efficacy of @ weeks of dail...</td>\n",
              "      <td>0</td>\n",
              "      <td>11</td>\n",
              "    </tr>\n",
              "    <tr>\n",
              "      <th>1</th>\n",
              "      <td>METHODS</td>\n",
              "      <td>a total of @ patients with primary knee oa wer...</td>\n",
              "      <td>1</td>\n",
              "      <td>11</td>\n",
              "    </tr>\n",
              "    <tr>\n",
              "      <th>2</th>\n",
              "      <td>METHODS</td>\n",
              "      <td>outcome measures included pain reduction and i...</td>\n",
              "      <td>2</td>\n",
              "      <td>11</td>\n",
              "    </tr>\n",
              "    <tr>\n",
              "      <th>3</th>\n",
              "      <td>METHODS</td>\n",
              "      <td>pain was assessed using the visual analog pain...</td>\n",
              "      <td>3</td>\n",
              "      <td>11</td>\n",
              "    </tr>\n",
              "    <tr>\n",
              "      <th>4</th>\n",
              "      <td>METHODS</td>\n",
              "      <td>secondary outcome measures included the wester...</td>\n",
              "      <td>4</td>\n",
              "      <td>11</td>\n",
              "    </tr>\n",
              "  </tbody>\n",
              "</table>\n",
              "</div>\n",
              "    <div class=\"colab-df-buttons\">\n",
              "\n",
              "  <div class=\"colab-df-container\">\n",
              "    <button class=\"colab-df-convert\" onclick=\"convertToInteractive('df-669cb583-0c3e-4625-b158-8ddda4ed0550')\"\n",
              "            title=\"Convert this dataframe to an interactive table.\"\n",
              "            style=\"display:none;\">\n",
              "\n",
              "  <svg xmlns=\"http://www.w3.org/2000/svg\" height=\"24px\" viewBox=\"0 -960 960 960\">\n",
              "    <path d=\"M120-120v-720h720v720H120Zm60-500h600v-160H180v160Zm220 220h160v-160H400v160Zm0 220h160v-160H400v160ZM180-400h160v-160H180v160Zm440 0h160v-160H620v160ZM180-180h160v-160H180v160Zm440 0h160v-160H620v160Z\"/>\n",
              "  </svg>\n",
              "    </button>\n",
              "\n",
              "  <style>\n",
              "    .colab-df-container {\n",
              "      display:flex;\n",
              "      gap: 12px;\n",
              "    }\n",
              "\n",
              "    .colab-df-convert {\n",
              "      background-color: #E8F0FE;\n",
              "      border: none;\n",
              "      border-radius: 50%;\n",
              "      cursor: pointer;\n",
              "      display: none;\n",
              "      fill: #1967D2;\n",
              "      height: 32px;\n",
              "      padding: 0 0 0 0;\n",
              "      width: 32px;\n",
              "    }\n",
              "\n",
              "    .colab-df-convert:hover {\n",
              "      background-color: #E2EBFA;\n",
              "      box-shadow: 0px 1px 2px rgba(60, 64, 67, 0.3), 0px 1px 3px 1px rgba(60, 64, 67, 0.15);\n",
              "      fill: #174EA6;\n",
              "    }\n",
              "\n",
              "    .colab-df-buttons div {\n",
              "      margin-bottom: 4px;\n",
              "    }\n",
              "\n",
              "    [theme=dark] .colab-df-convert {\n",
              "      background-color: #3B4455;\n",
              "      fill: #D2E3FC;\n",
              "    }\n",
              "\n",
              "    [theme=dark] .colab-df-convert:hover {\n",
              "      background-color: #434B5C;\n",
              "      box-shadow: 0px 1px 3px 1px rgba(0, 0, 0, 0.15);\n",
              "      filter: drop-shadow(0px 1px 2px rgba(0, 0, 0, 0.3));\n",
              "      fill: #FFFFFF;\n",
              "    }\n",
              "  </style>\n",
              "\n",
              "    <script>\n",
              "      const buttonEl =\n",
              "        document.querySelector('#df-669cb583-0c3e-4625-b158-8ddda4ed0550 button.colab-df-convert');\n",
              "      buttonEl.style.display =\n",
              "        google.colab.kernel.accessAllowed ? 'block' : 'none';\n",
              "\n",
              "      async function convertToInteractive(key) {\n",
              "        const element = document.querySelector('#df-669cb583-0c3e-4625-b158-8ddda4ed0550');\n",
              "        const dataTable =\n",
              "          await google.colab.kernel.invokeFunction('convertToInteractive',\n",
              "                                                    [key], {});\n",
              "        if (!dataTable) return;\n",
              "\n",
              "        const docLinkHtml = 'Like what you see? Visit the ' +\n",
              "          '<a target=\"_blank\" href=https://colab.research.google.com/notebooks/data_table.ipynb>data table notebook</a>'\n",
              "          + ' to learn more about interactive tables.';\n",
              "        element.innerHTML = '';\n",
              "        dataTable['output_type'] = 'display_data';\n",
              "        await google.colab.output.renderOutput(dataTable, element);\n",
              "        const docLink = document.createElement('div');\n",
              "        docLink.innerHTML = docLinkHtml;\n",
              "        element.appendChild(docLink);\n",
              "      }\n",
              "    </script>\n",
              "  </div>\n",
              "\n",
              "\n",
              "<div id=\"df-75a4f969-6f33-4ff7-8fa7-ec9d3a8e07ae\">\n",
              "  <button class=\"colab-df-quickchart\" onclick=\"quickchart('df-75a4f969-6f33-4ff7-8fa7-ec9d3a8e07ae')\"\n",
              "            title=\"Suggest charts\"\n",
              "            style=\"display:none;\">\n",
              "\n",
              "<svg xmlns=\"http://www.w3.org/2000/svg\" height=\"24px\"viewBox=\"0 0 24 24\"\n",
              "     width=\"24px\">\n",
              "    <g>\n",
              "        <path d=\"M19 3H5c-1.1 0-2 .9-2 2v14c0 1.1.9 2 2 2h14c1.1 0 2-.9 2-2V5c0-1.1-.9-2-2-2zM9 17H7v-7h2v7zm4 0h-2V7h2v10zm4 0h-2v-4h2v4z\"/>\n",
              "    </g>\n",
              "</svg>\n",
              "  </button>\n",
              "\n",
              "<style>\n",
              "  .colab-df-quickchart {\n",
              "      --bg-color: #E8F0FE;\n",
              "      --fill-color: #1967D2;\n",
              "      --hover-bg-color: #E2EBFA;\n",
              "      --hover-fill-color: #174EA6;\n",
              "      --disabled-fill-color: #AAA;\n",
              "      --disabled-bg-color: #DDD;\n",
              "  }\n",
              "\n",
              "  [theme=dark] .colab-df-quickchart {\n",
              "      --bg-color: #3B4455;\n",
              "      --fill-color: #D2E3FC;\n",
              "      --hover-bg-color: #434B5C;\n",
              "      --hover-fill-color: #FFFFFF;\n",
              "      --disabled-bg-color: #3B4455;\n",
              "      --disabled-fill-color: #666;\n",
              "  }\n",
              "\n",
              "  .colab-df-quickchart {\n",
              "    background-color: var(--bg-color);\n",
              "    border: none;\n",
              "    border-radius: 50%;\n",
              "    cursor: pointer;\n",
              "    display: none;\n",
              "    fill: var(--fill-color);\n",
              "    height: 32px;\n",
              "    padding: 0;\n",
              "    width: 32px;\n",
              "  }\n",
              "\n",
              "  .colab-df-quickchart:hover {\n",
              "    background-color: var(--hover-bg-color);\n",
              "    box-shadow: 0 1px 2px rgba(60, 64, 67, 0.3), 0 1px 3px 1px rgba(60, 64, 67, 0.15);\n",
              "    fill: var(--button-hover-fill-color);\n",
              "  }\n",
              "\n",
              "  .colab-df-quickchart-complete:disabled,\n",
              "  .colab-df-quickchart-complete:disabled:hover {\n",
              "    background-color: var(--disabled-bg-color);\n",
              "    fill: var(--disabled-fill-color);\n",
              "    box-shadow: none;\n",
              "  }\n",
              "\n",
              "  .colab-df-spinner {\n",
              "    border: 2px solid var(--fill-color);\n",
              "    border-color: transparent;\n",
              "    border-bottom-color: var(--fill-color);\n",
              "    animation:\n",
              "      spin 1s steps(1) infinite;\n",
              "  }\n",
              "\n",
              "  @keyframes spin {\n",
              "    0% {\n",
              "      border-color: transparent;\n",
              "      border-bottom-color: var(--fill-color);\n",
              "      border-left-color: var(--fill-color);\n",
              "    }\n",
              "    20% {\n",
              "      border-color: transparent;\n",
              "      border-left-color: var(--fill-color);\n",
              "      border-top-color: var(--fill-color);\n",
              "    }\n",
              "    30% {\n",
              "      border-color: transparent;\n",
              "      border-left-color: var(--fill-color);\n",
              "      border-top-color: var(--fill-color);\n",
              "      border-right-color: var(--fill-color);\n",
              "    }\n",
              "    40% {\n",
              "      border-color: transparent;\n",
              "      border-right-color: var(--fill-color);\n",
              "      border-top-color: var(--fill-color);\n",
              "    }\n",
              "    60% {\n",
              "      border-color: transparent;\n",
              "      border-right-color: var(--fill-color);\n",
              "    }\n",
              "    80% {\n",
              "      border-color: transparent;\n",
              "      border-right-color: var(--fill-color);\n",
              "      border-bottom-color: var(--fill-color);\n",
              "    }\n",
              "    90% {\n",
              "      border-color: transparent;\n",
              "      border-bottom-color: var(--fill-color);\n",
              "    }\n",
              "  }\n",
              "</style>\n",
              "\n",
              "  <script>\n",
              "    async function quickchart(key) {\n",
              "      const quickchartButtonEl =\n",
              "        document.querySelector('#' + key + ' button');\n",
              "      quickchartButtonEl.disabled = true;  // To prevent multiple clicks.\n",
              "      quickchartButtonEl.classList.add('colab-df-spinner');\n",
              "      try {\n",
              "        const charts = await google.colab.kernel.invokeFunction(\n",
              "            'suggestCharts', [key], {});\n",
              "      } catch (error) {\n",
              "        console.error('Error during call to suggestCharts:', error);\n",
              "      }\n",
              "      quickchartButtonEl.classList.remove('colab-df-spinner');\n",
              "      quickchartButtonEl.classList.add('colab-df-quickchart-complete');\n",
              "    }\n",
              "    (() => {\n",
              "      let quickchartButtonEl =\n",
              "        document.querySelector('#df-75a4f969-6f33-4ff7-8fa7-ec9d3a8e07ae button');\n",
              "      quickchartButtonEl.style.display =\n",
              "        google.colab.kernel.accessAllowed ? 'block' : 'none';\n",
              "    })();\n",
              "  </script>\n",
              "</div>\n",
              "\n",
              "    </div>\n",
              "  </div>\n"
            ],
            "text/plain": [
              "      target                                               data  line_number  \\\n",
              "0  OBJECTIVE  to investigate the efficacy of @ weeks of dail...            0   \n",
              "1    METHODS  a total of @ patients with primary knee oa wer...            1   \n",
              "2    METHODS  outcome measures included pain reduction and i...            2   \n",
              "3    METHODS  pain was assessed using the visual analog pain...            3   \n",
              "4    METHODS  secondary outcome measures included the wester...            4   \n",
              "\n",
              "   total_line  \n",
              "0          11  \n",
              "1          11  \n",
              "2          11  \n",
              "3          11  \n",
              "4          11  "
            ]
          },
          "execution_count": 12,
          "metadata": {},
          "output_type": "execute_result"
        }
      ],
      "source": [
        "train_df.head()"
      ]
    },
    {
      "cell_type": "code",
      "execution_count": null,
      "metadata": {
        "id": "9qC5ZasrYOty"
      },
      "outputs": [],
      "source": [
        "train_sen = train_df[\"data\"].tolist()\n",
        "test_sen = test_df[\"data\"].tolist()\n",
        "val_sen = val_df[\"data\"].tolist()"
      ]
    },
    {
      "cell_type": "markdown",
      "metadata": {
        "id": "LOVeNH_QbMy1"
      },
      "source": [
        "# **ONE HOT ENCODING AND LABEL ENCODING OUR TARGET DATAFRAME**"
      ]
    },
    {
      "cell_type": "code",
      "execution_count": null,
      "metadata": {
        "id": "kqTqQAUMbUVd"
      },
      "outputs": [],
      "source": [
        "from sklearn.preprocessing import OneHotEncoder, LabelEncoder"
      ]
    },
    {
      "cell_type": "code",
      "execution_count": null,
      "metadata": {
        "colab": {
          "base_uri": "https://localhost:8080/"
        },
        "id": "nKJMK2sebatt",
        "outputId": "76f6f5b5-fa24-4f34-bc33-108136723401"
      },
      "outputs": [
        {
          "name": "stderr",
          "output_type": "stream",
          "text": [
            "/usr/local/lib/python3.10/dist-packages/sklearn/preprocessing/_encoders.py:868: FutureWarning: `sparse` was renamed to `sparse_output` in version 1.2 and will be removed in 1.4. `sparse_output` is ignored unless you leave `sparse` to its default value.\n",
            "  warnings.warn(\n",
            "/usr/local/lib/python3.10/dist-packages/sklearn/preprocessing/_encoders.py:868: FutureWarning: `sparse` was renamed to `sparse_output` in version 1.2 and will be removed in 1.4. `sparse_output` is ignored unless you leave `sparse` to its default value.\n",
            "  warnings.warn(\n",
            "/usr/local/lib/python3.10/dist-packages/sklearn/preprocessing/_encoders.py:868: FutureWarning: `sparse` was renamed to `sparse_output` in version 1.2 and will be removed in 1.4. `sparse_output` is ignored unless you leave `sparse` to its default value.\n",
            "  warnings.warn(\n"
          ]
        }
      ],
      "source": [
        "ohe = OneHotEncoder(sparse=False)\n",
        "train_label_OH = ohe.fit_transform(train_df[\"target\"].to_numpy().reshape(-1,1))\n",
        "test_label_OH = ohe.fit_transform(test_df[\"target\"].to_numpy().reshape(-1,1))\n",
        "val_label_OH = ohe.fit_transform(val_df[\"target\"].to_numpy().reshape(-1,1))"
      ]
    },
    {
      "cell_type": "code",
      "execution_count": null,
      "metadata": {
        "id": "cDsYKWrdcREF"
      },
      "outputs": [],
      "source": [
        "from sklearn.preprocessing import LabelEncoder\n",
        "label_encoder = LabelEncoder()\n",
        "train_labels_encoded = label_encoder.fit_transform(train_df[\"target\"].to_numpy())\n",
        "val_labels_encoded = label_encoder.transform(val_df[\"target\"].to_numpy())\n",
        "test_labels_encoded = label_encoder.transform(test_df[\"target\"].to_numpy())"
      ]
    },
    {
      "cell_type": "code",
      "execution_count": null,
      "metadata": {
        "id": "QGamR40E3U5-"
      },
      "outputs": [],
      "source": [
        "num_classes = len(label_encoder.classes_)"
      ]
    },
    {
      "cell_type": "markdown",
      "metadata": {
        "id": "k45xSkPEc2ls"
      },
      "source": [
        "#**BASELINE(ML) MODEL**"
      ]
    },
    {
      "cell_type": "code",
      "execution_count": null,
      "metadata": {
        "id": "xoCBTmcicWit"
      },
      "outputs": [],
      "source": [
        "from sklearn.feature_extraction.text import TfidfVectorizer\n",
        "from sklearn.naive_bayes import MultinomialNB\n",
        "from sklearn.pipeline import Pipeline"
      ]
    },
    {
      "cell_type": "code",
      "execution_count": null,
      "metadata": {
        "id": "juT8p9IydN8c"
      },
      "outputs": [],
      "source": [
        "model_0 = Pipeline([\n",
        "    (\"tf-idf\",TfidfVectorizer()),\n",
        "    (\"clf\",MultinomialNB())\n",
        "])"
      ]
    },
    {
      "cell_type": "code",
      "execution_count": null,
      "metadata": {
        "colab": {
          "base_uri": "https://localhost:8080/",
          "height": 125
        },
        "id": "NbRFqr_AdZ2v",
        "outputId": "acc9e7c0-eb41-4104-874b-5a92ec1d263d"
      },
      "outputs": [
        {
          "data": {
            "text/html": [
              "<style>#sk-container-id-1 {color: black;background-color: white;}#sk-container-id-1 pre{padding: 0;}#sk-container-id-1 div.sk-toggleable {background-color: white;}#sk-container-id-1 label.sk-toggleable__label {cursor: pointer;display: block;width: 100%;margin-bottom: 0;padding: 0.3em;box-sizing: border-box;text-align: center;}#sk-container-id-1 label.sk-toggleable__label-arrow:before {content: \"▸\";float: left;margin-right: 0.25em;color: #696969;}#sk-container-id-1 label.sk-toggleable__label-arrow:hover:before {color: black;}#sk-container-id-1 div.sk-estimator:hover label.sk-toggleable__label-arrow:before {color: black;}#sk-container-id-1 div.sk-toggleable__content {max-height: 0;max-width: 0;overflow: hidden;text-align: left;background-color: #f0f8ff;}#sk-container-id-1 div.sk-toggleable__content pre {margin: 0.2em;color: black;border-radius: 0.25em;background-color: #f0f8ff;}#sk-container-id-1 input.sk-toggleable__control:checked~div.sk-toggleable__content {max-height: 200px;max-width: 100%;overflow: auto;}#sk-container-id-1 input.sk-toggleable__control:checked~label.sk-toggleable__label-arrow:before {content: \"▾\";}#sk-container-id-1 div.sk-estimator input.sk-toggleable__control:checked~label.sk-toggleable__label {background-color: #d4ebff;}#sk-container-id-1 div.sk-label input.sk-toggleable__control:checked~label.sk-toggleable__label {background-color: #d4ebff;}#sk-container-id-1 input.sk-hidden--visually {border: 0;clip: rect(1px 1px 1px 1px);clip: rect(1px, 1px, 1px, 1px);height: 1px;margin: -1px;overflow: hidden;padding: 0;position: absolute;width: 1px;}#sk-container-id-1 div.sk-estimator {font-family: monospace;background-color: #f0f8ff;border: 1px dotted black;border-radius: 0.25em;box-sizing: border-box;margin-bottom: 0.5em;}#sk-container-id-1 div.sk-estimator:hover {background-color: #d4ebff;}#sk-container-id-1 div.sk-parallel-item::after {content: \"\";width: 100%;border-bottom: 1px solid gray;flex-grow: 1;}#sk-container-id-1 div.sk-label:hover label.sk-toggleable__label {background-color: #d4ebff;}#sk-container-id-1 div.sk-serial::before {content: \"\";position: absolute;border-left: 1px solid gray;box-sizing: border-box;top: 0;bottom: 0;left: 50%;z-index: 0;}#sk-container-id-1 div.sk-serial {display: flex;flex-direction: column;align-items: center;background-color: white;padding-right: 0.2em;padding-left: 0.2em;position: relative;}#sk-container-id-1 div.sk-item {position: relative;z-index: 1;}#sk-container-id-1 div.sk-parallel {display: flex;align-items: stretch;justify-content: center;background-color: white;position: relative;}#sk-container-id-1 div.sk-item::before, #sk-container-id-1 div.sk-parallel-item::before {content: \"\";position: absolute;border-left: 1px solid gray;box-sizing: border-box;top: 0;bottom: 0;left: 50%;z-index: -1;}#sk-container-id-1 div.sk-parallel-item {display: flex;flex-direction: column;z-index: 1;position: relative;background-color: white;}#sk-container-id-1 div.sk-parallel-item:first-child::after {align-self: flex-end;width: 50%;}#sk-container-id-1 div.sk-parallel-item:last-child::after {align-self: flex-start;width: 50%;}#sk-container-id-1 div.sk-parallel-item:only-child::after {width: 0;}#sk-container-id-1 div.sk-dashed-wrapped {border: 1px dashed gray;margin: 0 0.4em 0.5em 0.4em;box-sizing: border-box;padding-bottom: 0.4em;background-color: white;}#sk-container-id-1 div.sk-label label {font-family: monospace;font-weight: bold;display: inline-block;line-height: 1.2em;}#sk-container-id-1 div.sk-label-container {text-align: center;}#sk-container-id-1 div.sk-container {/* jupyter's `normalize.less` sets `[hidden] { display: none; }` but bootstrap.min.css set `[hidden] { display: none !important; }` so we also need the `!important` here to be able to override the default hidden behavior on the sphinx rendered scikit-learn.org. See: https://github.com/scikit-learn/scikit-learn/issues/21755 */display: inline-block !important;position: relative;}#sk-container-id-1 div.sk-text-repr-fallback {display: none;}</style><div id=\"sk-container-id-1\" class=\"sk-top-container\"><div class=\"sk-text-repr-fallback\"><pre>Pipeline(steps=[(&#x27;tf-idf&#x27;, TfidfVectorizer()), (&#x27;clf&#x27;, MultinomialNB())])</pre><b>In a Jupyter environment, please rerun this cell to show the HTML representation or trust the notebook. <br />On GitHub, the HTML representation is unable to render, please try loading this page with nbviewer.org.</b></div><div class=\"sk-container\" hidden><div class=\"sk-item sk-dashed-wrapped\"><div class=\"sk-label-container\"><div class=\"sk-label sk-toggleable\"><input class=\"sk-toggleable__control sk-hidden--visually\" id=\"sk-estimator-id-1\" type=\"checkbox\" ><label for=\"sk-estimator-id-1\" class=\"sk-toggleable__label sk-toggleable__label-arrow\">Pipeline</label><div class=\"sk-toggleable__content\"><pre>Pipeline(steps=[(&#x27;tf-idf&#x27;, TfidfVectorizer()), (&#x27;clf&#x27;, MultinomialNB())])</pre></div></div></div><div class=\"sk-serial\"><div class=\"sk-item\"><div class=\"sk-estimator sk-toggleable\"><input class=\"sk-toggleable__control sk-hidden--visually\" id=\"sk-estimator-id-2\" type=\"checkbox\" ><label for=\"sk-estimator-id-2\" class=\"sk-toggleable__label sk-toggleable__label-arrow\">TfidfVectorizer</label><div class=\"sk-toggleable__content\"><pre>TfidfVectorizer()</pre></div></div></div><div class=\"sk-item\"><div class=\"sk-estimator sk-toggleable\"><input class=\"sk-toggleable__control sk-hidden--visually\" id=\"sk-estimator-id-3\" type=\"checkbox\" ><label for=\"sk-estimator-id-3\" class=\"sk-toggleable__label sk-toggleable__label-arrow\">MultinomialNB</label><div class=\"sk-toggleable__content\"><pre>MultinomialNB()</pre></div></div></div></div></div></div></div>"
            ],
            "text/plain": [
              "Pipeline(steps=[('tf-idf', TfidfVectorizer()), ('clf', MultinomialNB())])"
            ]
          },
          "execution_count": 22,
          "metadata": {},
          "output_type": "execute_result"
        }
      ],
      "source": [
        "model_0.fit(X=train_sen, y=train_labels_encoded)"
      ]
    },
    {
      "cell_type": "code",
      "execution_count": null,
      "metadata": {
        "colab": {
          "base_uri": "https://localhost:8080/"
        },
        "id": "Ho_PCly5diQ4",
        "outputId": "153e2ea5-5cd9-4465-f591-886cf173f50f"
      },
      "outputs": [
        {
          "data": {
            "text/plain": [
              "0.7218323844829869"
            ]
          },
          "execution_count": 23,
          "metadata": {},
          "output_type": "execute_result"
        }
      ],
      "source": [
        "model_0.score(X=val_sen,y=val_labels_encoded)"
      ]
    },
    {
      "cell_type": "code",
      "execution_count": null,
      "metadata": {
        "id": "Pl8nFWb7d0Hi"
      },
      "outputs": [],
      "source": [
        "from sklearn.metrics import accuracy_score, precision_recall_fscore_support\n",
        "def calculate_results(y_true, y_pred):\n",
        "\n",
        "\n",
        "  # Calculate model accuracy\n",
        "  model_accuracy = accuracy_score(y_true, y_pred) * 100 # get accuracy score in percentage value\n",
        "  # Calculate model precision, recall and f1 score using \"weighted\" avergage\n",
        "  model_precision, model_recall, model_f1, _ = precision_recall_fscore_support(y_true, y_pred, average=\"weighted\")\n",
        "  # Create a dictionary of model results\n",
        "  model_results = {\"accuracy\": model_accuracy,\n",
        "                   \"precision\": model_precision,\n",
        "                   \"recall\": model_recall,\n",
        "                   \"f1\": model_f1}\n",
        "  return model_results\n"
      ]
    },
    {
      "cell_type": "code",
      "execution_count": null,
      "metadata": {
        "id": "KLkdFsBwfddo"
      },
      "outputs": [],
      "source": [
        "baseline_pred = model_0.predict(val_sen)"
      ]
    },
    {
      "cell_type": "code",
      "execution_count": null,
      "metadata": {
        "id": "SaRBlWjtfrrR"
      },
      "outputs": [],
      "source": [
        "baseline_res = calculate_results(val_labels_encoded,baseline_pred)"
      ]
    },
    {
      "cell_type": "code",
      "execution_count": null,
      "metadata": {
        "colab": {
          "base_uri": "https://localhost:8080/"
        },
        "id": "MDDHdxP2gAi8",
        "outputId": "2ce2d160-b9f1-46a1-9ac3-d0003b5b0c42"
      },
      "outputs": [
        {
          "data": {
            "text/plain": [
              "{'accuracy': 72.1832384482987,\n",
              " 'precision': 0.7186466952323352,\n",
              " 'recall': 0.7218323844829869,\n",
              " 'f1': 0.6989250353450294}"
            ]
          },
          "execution_count": 27,
          "metadata": {},
          "output_type": "execute_result"
        }
      ],
      "source": [
        "baseline_res"
      ]
    },
    {
      "cell_type": "markdown",
      "metadata": {
        "id": "3SiAzz5jgRVn"
      },
      "source": [
        "#**DEEP LEARNING MODELS**"
      ]
    },
    {
      "cell_type": "code",
      "execution_count": null,
      "metadata": {
        "id": "8-RrZawUgBuk"
      },
      "outputs": [],
      "source": [
        "import numpy as np\n",
        "sen_len = [len(sen.split()) for sen in train_sen]\n",
        "avg_senLen = np.mean(sen_len)\n",
        "avg_senLen"
      ]
    },
    {
      "cell_type": "code",
      "execution_count": null,
      "metadata": {
        "colab": {
          "base_uri": "https://localhost:8080/",
          "height": 575
        },
        "collapsed": true,
        "id": "92RO5kwGvqwC",
        "outputId": "c56c0e9b-8a31-4f73-fa31-253566d8df85"
      },
      "outputs": [
        {
          "data": {
            "text/plain": [
              "(array([4.2075e+04, 8.3771e+04, 3.6877e+04, 1.0945e+04, 3.9310e+03,\n",
              "        1.4450e+03, 5.6000e+02, 2.2600e+02, 1.0100e+02, 4.5000e+01,\n",
              "        2.0000e+01, 1.2000e+01, 9.0000e+00, 1.0000e+01, 6.0000e+00,\n",
              "        2.0000e+00, 3.0000e+00, 0.0000e+00, 1.0000e+00, 1.0000e+00]),\n",
              " array([  1.  ,  15.75,  30.5 ,  45.25,  60.  ,  74.75,  89.5 , 104.25,\n",
              "        119.  , 133.75, 148.5 , 163.25, 178.  , 192.75, 207.5 , 222.25,\n",
              "        237.  , 251.75, 266.5 , 281.25, 296.  ]),\n",
              " <BarContainer object of 20 artists>)"
            ]
          },
          "execution_count": 30,
          "metadata": {},
          "output_type": "execute_result"
        },
        {
          "data": {
            "image/png": "[encoded data removed]",
            "text/plain": [
              "<Figure size 640x480 with 1 Axes>"
            ]
          },
          "metadata": {},
          "output_type": "display_data"
        }
      ],
      "source": [
        "import matplotlib.pyplot as plt\n",
        "plt.hist(sen_len, bins=20)"
      ]
    },
    {
      "cell_type": "code",
      "execution_count": null,
      "metadata": {
        "colab": {
          "base_uri": "https://localhost:8080/"
        },
        "id": "jYnpjs4wv0vk",
        "outputId": "736f57f4-16aa-45da-c1c7-f8bc809fd0e0"
      },
      "outputs": [
        {
          "data": {
            "text/plain": [
              "55"
            ]
          },
          "execution_count": 20,
          "metadata": {},
          "output_type": "execute_result"
        }
      ],
      "source": [
        "#finding the token len such that it contains 95% of the samples\n",
        "seq_len = int(np.percentile(sen_len,95))\n",
        "seq_len"
      ]
    },
    {
      "cell_type": "code",
      "execution_count": null,
      "metadata": {
        "id": "_K-tHoN5wQc3"
      },
      "outputs": [],
      "source": [
        "from tensorflow.keras.layers import TextVectorization\n",
        "\n",
        "text_vec = TextVectorization(\n",
        "    max_tokens = 680000,\n",
        "    output_sequence_length = seq_len\n",
        ")"
      ]
    },
    {
      "cell_type": "code",
      "execution_count": null,
      "metadata": {
        "id": "LzHQF_WOxmyD"
      },
      "outputs": [],
      "source": [
        "text_vec.adapt(train_sen)"
      ]
    },
    {
      "cell_type": "code",
      "execution_count": null,
      "metadata": {
        "id": "07nsOT99yZdx"
      },
      "outputs": [],
      "source": [
        "from tensorflow.keras import layers\n",
        "\n",
        "embedding = layers.Embedding(input_dim=68000, # set the input shape\n",
        "                             output_dim=128, # set the size of the embedding vector\n",
        "                             mask_zero=True\n",
        "                             )"
      ]
    },
    {
      "cell_type": "code",
      "execution_count": null,
      "metadata": {
        "id": "1FwjJQiHzih6"
      },
      "outputs": [],
      "source": [
        "import tensorflow as tf\n",
        "train_dataset = tf.data.Dataset.from_tensor_slices((train_sen, train_label_OH))\n",
        "test_dataset = tf.data.Dataset.from_tensor_slices((test_sen, test_label_OH))\n",
        "val_dataset = tf.data.Dataset.from_tensor_slices((val_sen, val_label_OH))"
      ]
    },
    {
      "cell_type": "code",
      "execution_count": null,
      "metadata": {
        "id": "41N5iYvm0Tvz"
      },
      "outputs": [],
      "source": [
        "train_dataset = train_dataset.batch(32).prefetch(tf.data.AUTOTUNE)"
      ]
    },
    {
      "cell_type": "code",
      "execution_count": null,
      "metadata": {
        "id": "9knBb2691ZzS"
      },
      "outputs": [],
      "source": [
        "test_dataset = test_dataset.batch(32).prefetch(tf.data.AUTOTUNE)\n",
        "val_dataset =val_dataset.batch(32).prefetch(tf.data.AUTOTUNE)"
      ]
    },
    {
      "cell_type": "code",
      "execution_count": null,
      "metadata": {
        "id": "pNICu_RW1lmd"
      },
      "outputs": [],
      "source": [
        "inputs = layers.Input(shape=(1,), dtype=tf.string)\n",
        "x = text_vec(inputs)\n",
        "x = embedding(x)\n",
        "x= layers.Conv1D(32,5,padding=\"same\",activation=\"relu\")(x)\n",
        "x = layers.GlobalAveragePooling1D()(x)\n",
        "output = layers.Dense(num_classes,activation=\"softmax\")(x)\n",
        "\n",
        "model_0 = tf.keras.Model(inputs,output)"
      ]
    },
    {
      "cell_type": "code",
      "execution_count": null,
      "metadata": {
        "colab": {
          "base_uri": "https://localhost:8080/"
        },
        "id": "n4-l9vdD3ekt",
        "outputId": "f85e5581-9289-4355-b3a5-8621a91f626d"
      },
      "outputs": [
        {
          "name": "stdout",
          "output_type": "stream",
          "text": [
            "Model: \"model\"\n",
            "_________________________________________________________________\n",
            " Layer (type)                Output Shape              Param #   \n",
            "=================================================================\n",
            " input_2 (InputLayer)        [(None, 1)]               0         \n",
            "                                                                 \n",
            " text_vectorization (TextVe  (None, 55)                0         \n",
            " ctorization)                                                    \n",
            "                                                                 \n",
            " embedding (Embedding)       (None, 55, 128)           8704000   \n",
            "                                                                 \n",
            " conv1d_1 (Conv1D)           (None, 55, 32)            20512     \n",
            "                                                                 \n",
            " global_average_pooling1d_1  (None, 32)                0         \n",
            "  (GlobalAveragePooling1D)                                       \n",
            "                                                                 \n",
            " dense (Dense)               (None, 5)                 165       \n",
            "                                                                 \n",
            "=================================================================\n",
            "Total params: 8724677 (33.28 MB)\n",
            "Trainable params: 8724677 (33.28 MB)\n",
            "Non-trainable params: 0 (0.00 Byte)\n",
            "_________________________________________________________________\n"
          ]
        }
      ],
      "source": [
        "model_0.compile(loss=\"categorical_crossentropy\",\n",
        "                optimizer=\"Adam\",\n",
        "                metrics=[\"accuracy\"])\n",
        "\n",
        "model_0.summary()"
      ]
    },
    {
      "cell_type": "code",
      "execution_count": null,
      "metadata": {
        "colab": {
          "base_uri": "https://localhost:8080/"
        },
        "id": "NZcTPlqh30sm",
        "outputId": "91489326-269a-46f2-8e3b-3427700ec3ab"
      },
      "outputs": [
        {
          "name": "stdout",
          "output_type": "stream",
          "text": [
            "Epoch 1/3\n",
            "562/562 [==============================] - 24s 30ms/step - loss: 0.9669 - accuracy: 0.6156 - val_loss: 0.7017 - val_accuracy: 0.7350\n",
            "Epoch 2/3\n",
            "562/562 [==============================] - 5s 9ms/step - loss: 0.6598 - accuracy: 0.7570 - val_loss: 0.6391 - val_accuracy: 0.7723\n",
            "Epoch 3/3\n",
            "562/562 [==============================] - 5s 10ms/step - loss: 0.6177 - accuracy: 0.7754 - val_loss: 0.5990 - val_accuracy: 0.7806\n"
          ]
        }
      ],
      "source": [
        "history_model_1 = model_0.fit(train_dataset,\n",
        "                              steps_per_epoch=int(0.1*len(train_dataset)),\n",
        "                              epochs=3,\n",
        "                              validation_data=val_dataset,\n",
        "                              validation_steps=int(0.1 * len(val_dataset))) # only validate on 10% of batches\n"
      ]
    },
    {
      "cell_type": "code",
      "execution_count": null,
      "metadata": {
        "colab": {
          "base_uri": "https://localhost:8080/"
        },
        "id": "AL-5hhyM4qB2",
        "outputId": "501a26ba-bcb5-4723-b813-f828f8e7e855"
      },
      "outputs": [
        {
          "name": "stdout",
          "output_type": "stream",
          "text": [
            "945/945 [==============================] - 6s 6ms/step - loss: 0.5996 - accuracy: 0.7857\n"
          ]
        },
        {
          "data": {
            "text/plain": [
              "[0.5995973944664001, 0.7857474088668823]"
            ]
          },
          "execution_count": 55,
          "metadata": {},
          "output_type": "execute_result"
        }
      ],
      "source": [
        "model_0.evaluate(val_dataset)"
      ]
    },
    {
      "cell_type": "code",
      "execution_count": null,
      "metadata": {
        "colab": {
          "base_uri": "https://localhost:8080/"
        },
        "id": "5W4rL8Ch6Qa8",
        "outputId": "9ec68eca-41cd-482f-f4f3-ccd7e4965cc1"
      },
      "outputs": [
        {
          "name": "stdout",
          "output_type": "stream",
          "text": [
            "Epoch 1/5\n",
            "5627/5627 [==============================] - 62s 11ms/step - loss: 0.2300 - accuracy: 0.9267 - val_loss: 0.7315 - val_accuracy: 0.7903\n",
            "Epoch 2/5\n",
            "5627/5627 [==============================] - 38s 7ms/step - loss: 0.1972 - accuracy: 0.9381 - val_loss: 0.8100 - val_accuracy: 0.7855\n",
            "Epoch 3/5\n",
            "5627/5627 [==============================] - 38s 7ms/step - loss: 0.1664 - accuracy: 0.9488 - val_loss: 0.8975 - val_accuracy: 0.7786\n",
            "Epoch 4/5\n",
            "5627/5627 [==============================] - 40s 7ms/step - loss: 0.1397 - accuracy: 0.9582 - val_loss: 0.9963 - val_accuracy: 0.7737\n",
            "Epoch 5/5\n",
            "5627/5627 [==============================] - 40s 7ms/step - loss: 0.1163 - accuracy: 0.9660 - val_loss: 1.1050 - val_accuracy: 0.7675\n"
          ]
        }
      ],
      "source": [
        "history_model_2 = model_0.fit(train_dataset,\n",
        "\n",
        "                              validation_data=val_dataset,\n",
        "                              epochs=5) # only validate on 10% of batches\n"
      ]
    },
    {
      "cell_type": "code",
      "execution_count": null,
      "metadata": {
        "id": "aXy4aSiH6jk-"
      },
      "outputs": [],
      "source": [
        "import tensorflow_hub as hub\n",
        "sent_encoder = hub.KerasLayer(\"https://tfhub.dev/google/universal-sentence-encoder/4\",\n",
        "                                        trainable=False,\n",
        "                                        name=\"universal_sentence_encoder\")"
      ]
    },
    {
      "cell_type": "code",
      "execution_count": null,
      "metadata": {
        "id": "awvkGYZWSfn-"
      },
      "outputs": [],
      "source": []
    },
    {
      "cell_type": "code",
      "execution_count": null,
      "metadata": {
        "id": "yuCC3YqORZss"
      },
      "outputs": [],
      "source": [
        "inputs = layers.Input(shape=[], dtype=tf.string)\n",
        "embed = sent_encoder(inputs)\n",
        "x = layers.Dense(128, activation=\"relu\")(embed)\n",
        "output = layers.Dense(num_classes, activation=\"softmax\")(x)\n",
        "model_1 = tf.keras.Model(inputs, output)\n"
      ]
    },
    {
      "cell_type": "code",
      "execution_count": null,
      "metadata": {
        "colab": {
          "base_uri": "https://localhost:8080/"
        },
        "id": "lu8EFjXzSkjW",
        "outputId": "78355ab8-6304-41fb-ed6a-c8127ea194f5"
      },
      "outputs": [
        {
          "name": "stdout",
          "output_type": "stream",
          "text": [
            "Model: \"model_3\"\n",
            "_________________________________________________________________\n",
            " Layer (type)                Output Shape              Param #   \n",
            "=================================================================\n",
            " input_4 (InputLayer)        [(None,)]                 0         \n",
            "                                                                 \n",
            " universal_sentence_encoder  (None, 512)               256797824 \n",
            "  (KerasLayer)                                                   \n",
            "                                                                 \n",
            " dense_6 (Dense)             (None, 128)               65664     \n",
            "                                                                 \n",
            " dense_7 (Dense)             (None, 5)                 645       \n",
            "                                                                 \n",
            "=================================================================\n",
            "Total params: 256864133 (979.86 MB)\n",
            "Trainable params: 66309 (259.02 KB)\n",
            "Non-trainable params: 256797824 (979.61 MB)\n",
            "_________________________________________________________________\n"
          ]
        }
      ],
      "source": [
        "model_1.compile(loss=\"categorical_crossentropy\",\n",
        "                optimizer=\"Adam\",\n",
        "                metrics=[\"accuracy\"])\n",
        "\n",
        "model_1.summary()"
      ]
    },
    {
      "cell_type": "code",
      "execution_count": null,
      "metadata": {
        "colab": {
          "base_uri": "https://localhost:8080/"
        },
        "id": "MzS2LkAFTUaz",
        "outputId": "69e2ab31-9c7c-4694-94e7-1e3dd05b01b3"
      },
      "outputs": [
        {
          "name": "stdout",
          "output_type": "stream",
          "text": [
            "Epoch 1/3\n",
            "562/562 [==============================] - 19s 15ms/step - loss: 0.9197 - accuracy: 0.6470 - val_loss: 0.7983 - val_accuracy: 0.6892\n",
            "Epoch 2/3\n",
            "562/562 [==============================] - 6s 11ms/step - loss: 0.7698 - accuracy: 0.7011 - val_loss: 0.7556 - val_accuracy: 0.7041\n",
            "Epoch 3/3\n",
            "562/562 [==============================] - 8s 14ms/step - loss: 0.7518 - accuracy: 0.7115 - val_loss: 0.7385 - val_accuracy: 0.7144\n"
          ]
        }
      ],
      "source": [
        "history_model_2 = model_1.fit(train_dataset,\n",
        "                              steps_per_epoch=int(0.1*len(train_dataset)),\n",
        "                              epochs=3,\n",
        "                              validation_data=val_dataset,\n",
        "                              validation_steps=int(0.1 * len(val_dataset)))"
      ]
    },
    {
      "cell_type": "code",
      "execution_count": null,
      "metadata": {
        "colab": {
          "base_uri": "https://localhost:8080/"
        },
        "id": "E3Z2v078TpW2",
        "outputId": "5fe74f96-3018-4aac-ba41-6c6a0631ed5f"
      },
      "outputs": [
        {
          "name": "stdout",
          "output_type": "stream",
          "text": [
            "945/945 [==============================] - 19s 20ms/step - loss: 0.7405 - accuracy: 0.7142\n"
          ]
        },
        {
          "data": {
            "text/plain": [
              "[0.7404918074607849, 0.7141532897949219]"
            ]
          },
          "execution_count": 47,
          "metadata": {},
          "output_type": "execute_result"
        }
      ],
      "source": [
        "model_1.evaluate(val_dataset)"
      ]
    },
    {
      "cell_type": "code",
      "execution_count": null,
      "metadata": {
        "colab": {
          "base_uri": "https://localhost:8080/"
        },
        "id": "9t-R6LvLUA6p",
        "outputId": "5dcf1afd-0097-4e78-878e-57c16dfd7e47"
      },
      "outputs": [
        {
          "name": "stdout",
          "output_type": "stream",
          "text": [
            "945/945 [==============================] - 10s 10ms/step\n"
          ]
        },
        {
          "data": {
            "text/plain": [
              "<tf.Tensor: shape=(30212,), dtype=int64, numpy=array([0, 1, 3, ..., 4, 4, 2])>"
            ]
          },
          "execution_count": 48,
          "metadata": {},
          "output_type": "execute_result"
        }
      ],
      "source": [
        "model_1_pred = tf.argmax(model_1.predict(val_dataset),axis=1)\n",
        "model_1_pred"
      ]
    },
    {
      "cell_type": "code",
      "execution_count": null,
      "metadata": {
        "id": "dgbbSu8WUOWj"
      },
      "outputs": [],
      "source": [
        "model_1_res = calculate_results(val_labels_encoded, model_1_pred)"
      ]
    },
    {
      "cell_type": "code",
      "execution_count": null,
      "metadata": {
        "colab": {
          "base_uri": "https://localhost:8080/"
        },
        "id": "WAapSV1BUkcu",
        "outputId": "39bbfcd7-447d-40cf-c773-6e173513c284"
      },
      "outputs": [
        {
          "data": {
            "text/plain": [
              "{'accuracy': 71.4153316562955,\n",
              " 'precision': 0.7143750691715887,\n",
              " 'recall': 0.7141533165629551,\n",
              " 'f1': 0.7114853539536738}"
            ]
          },
          "execution_count": 50,
          "metadata": {},
          "output_type": "execute_result"
        }
      ],
      "source": [
        "model_1_res"
      ]
    },
    {
      "cell_type": "markdown",
      "metadata": {
        "id": "aqf-CTXZWKvc"
      },
      "source": [
        "##**CHARACTER LEVEL EMBEDDINGS**"
      ]
    },
    {
      "cell_type": "code",
      "execution_count": null,
      "metadata": {
        "id": "EEBU9vppUqhn"
      },
      "outputs": [],
      "source": [
        "def split_char(text):\n",
        "  return \" \".join(list(text))"
      ]
    },
    {
      "cell_type": "code",
      "execution_count": null,
      "metadata": {
        "colab": {
          "base_uri": "https://localhost:8080/",
          "height": 70
        },
        "collapsed": true,
        "id": "9ShswSBfWBxs",
        "outputId": "dbe8c4e2-f67d-4914-e42a-f0bdcc08877d"
      },
      "outputs": [
        {
          "data": {
            "application/vnd.google.colaboratory.intrinsic+json": {
              "type": "string"
            },
            "text/plain": [
              "'s e r u m   l e v e l s   o f   i n t e r l e u k i n   @   (   i l - @   )   ,   i l - @   ,   t u m o r   n e c r o s i s   f a c t o r   (   t n f   )   -   ,   a n d   h i g h - s e n s i t i v i t y   c - r e a c t i v e   p r o t e i n   (   h s c r p   )   w e r e   m e a s u r e d   .'"
            ]
          },
          "execution_count": 22,
          "metadata": {},
          "output_type": "execute_result"
        }
      ],
      "source": [
        "res = split_char(train_sen[5])\n",
        "res"
      ]
    },
    {
      "cell_type": "code",
      "execution_count": null,
      "metadata": {
        "colab": {
          "base_uri": "https://localhost:8080/"
        },
        "id": "SiLwlP01WZJN",
        "outputId": "5fbd399b-62b0-46d4-99e9-2483d2cf984f"
      },
      "outputs": [
        {
          "data": {
            "text/plain": [
              "['t o   i n v e s t i g a t e   t h e   e f f i c a c y   o f   @   w e e k s   o f   d a i l y   l o w - d o s e   o r a l   p r e d n i s o l o n e   i n   i m p r o v i n g   p a i n   ,   m o b i l i t y   ,   a n d   s y s t e m i c   l o w - g r a d e   i n f l a m m a t i o n   i n   t h e   s h o r t   t e r m   a n d   w h e t h e r   t h e   e f f e c t   w o u l d   b e   s u s t a i n e d   a t   @   w e e k s   i n   o l d e r   a d u l t s   w i t h   m o d e r a t e   t o   s e v e r e   k n e e   o s t e o a r t h r i t i s   (   o a   )   .',\n",
              " 'a   t o t a l   o f   @   p a t i e n t s   w i t h   p r i m a r y   k n e e   o a   w e r e   r a n d o m i z e d   @ : @   ;   @   r e c e i v e d   @   m g / d a y   o f   p r e d n i s o l o n e   a n d   @   r e c e i v e d   p l a c e b o   f o r   @   w e e k s   .',\n",
              " 'o u t c o m e   m e a s u r e s   i n c l u d e d   p a i n   r e d u c t i o n   a n d   i m p r o v e m e n t   i n   f u n c t i o n   s c o r e s   a n d   s y s t e m i c   i n f l a m m a t i o n   m a r k e r s   .',\n",
              " 'p a i n   w a s   a s s e s s e d   u s i n g   t h e   v i s u a l   a n a l o g   p a i n   s c a l e   (   @ - @   m m   )   .',\n",
              " 's e c o n d a r y   o u t c o m e   m e a s u r e s   i n c l u d e d   t h e   w e s t e r n   o n t a r i o   a n d   m c m a s t e r   u n i v e r s i t i e s   o s t e o a r t h r i t i s   i n d e x   s c o r e s   ,   p a t i e n t   g l o b a l   a s s e s s m e n t   (   p g a   )   o f   t h e   s e v e r i t y   o f   k n e e   o a   ,   a n d   @ - m i n   w a l k   d i s t a n c e   (   @ m w d   )   .']"
            ]
          },
          "execution_count": 30,
          "metadata": {},
          "output_type": "execute_result"
        }
      ],
      "source": [
        "train_chars = [split_char(sentence) for sentence in train_sen]\n",
        "train_chars[:5]"
      ]
    },
    {
      "cell_type": "code",
      "execution_count": null,
      "metadata": {
        "id": "8K3gCk4TW4lq"
      },
      "outputs": [],
      "source": [
        "val_chars = [split_char(sentence) for sentence in val_sen]\n",
        "test_chars = [split_char(sentence) for sentence in test_sen]"
      ]
    },
    {
      "cell_type": "code",
      "execution_count": null,
      "metadata": {
        "id": "QxxbKQjBci69"
      },
      "outputs": [],
      "source": [
        "train_char_data = tf.data.Dataset.from_tensor_slices((train_chars,train_label_OH)).batch(32).prefetch(tf.data.AUTOTUNE)\n",
        "test_char_data = tf.data.Dataset.from_tensor_slices((test_chars,test_label_OH)).batch(32).prefetch(tf.data.AUTOTUNE)\n",
        "val_char_data = tf.data.Dataset.from_tensor_slices((val_chars,val_label_OH)).batch(32).prefetch(tf.data.AUTOTUNE)"
      ]
    },
    {
      "cell_type": "code",
      "execution_count": null,
      "metadata": {
        "colab": {
          "base_uri": "https://localhost:8080/"
        },
        "id": "vx9D1nB1XAGy",
        "outputId": "6e5d080b-0ca8-46d4-b877-242e136088f3"
      },
      "outputs": [
        {
          "data": {
            "text/plain": [
              "149.3662574983337"
            ]
          },
          "execution_count": 32,
          "metadata": {},
          "output_type": "execute_result"
        }
      ],
      "source": [
        "import numpy as np\n",
        "char_len = [len(sen) for sen in train_sen]\n",
        "avg_char_len = np.mean(char_len)\n",
        "avg_char_len"
      ]
    },
    {
      "cell_type": "code",
      "execution_count": null,
      "metadata": {
        "colab": {
          "base_uri": "https://localhost:8080/"
        },
        "id": "e7Sn68D8YjU2",
        "outputId": "20f369cc-42b5-43d6-b8dc-1351a9cdd2fb"
      },
      "outputs": [
        {
          "data": {
            "text/plain": [
              "290"
            ]
          },
          "execution_count": 33,
          "metadata": {},
          "output_type": "execute_result"
        }
      ],
      "source": [
        "output_char_seq_len = int(np.percentile(char_len,95))\n",
        "output_char_seq_len"
      ]
    },
    {
      "cell_type": "code",
      "execution_count": null,
      "metadata": {
        "colab": {
          "base_uri": "https://localhost:8080/"
        },
        "id": "gvv_vEnhYxOw",
        "outputId": "9bd24a42-9d28-48ee-8082-68ac87510b8d"
      },
      "outputs": [
        {
          "data": {
            "text/plain": [
              "68"
            ]
          },
          "execution_count": 34,
          "metadata": {},
          "output_type": "execute_result"
        }
      ],
      "source": [
        "import string\n",
        "alphabet = string.ascii_lowercase + string.digits + string.punctuation\n",
        "len(alphabet)"
      ]
    },
    {
      "cell_type": "code",
      "execution_count": null,
      "metadata": {
        "id": "8GUZSf_da2hk"
      },
      "outputs": [],
      "source": [
        "char_tokens = len(alphabet)+2"
      ]
    },
    {
      "cell_type": "code",
      "execution_count": null,
      "metadata": {
        "id": "e690WXw1Y6Hh"
      },
      "outputs": [],
      "source": [
        "char_vectorizer = TextVectorization(max_tokens= char_tokens,\n",
        "                                    output_sequence_length=output_char_seq_len,\n",
        "                                    standardize=\"lower_and_strip_punctuation\",\n",
        "                                    name=\"char_vectorizer\")\n",
        "\n",
        "# Adapt character vectorizer to training characters\n",
        "char_vectorizer.adapt(train_chars)"
      ]
    },
    {
      "cell_type": "code",
      "execution_count": null,
      "metadata": {
        "id": "G7bvWNNSZFFk"
      },
      "outputs": [],
      "source": [
        "char_embed = layers.Embedding(input_dim=char_tokens, # set the input shape\n",
        "                             output_dim=25, # set the size of the embedding vector\n",
        "                             mask_zero=True,\n",
        "                              name=\"char_embed\"\n",
        "                             )"
      ]
    },
    {
      "cell_type": "code",
      "execution_count": null,
      "metadata": {
        "id": "P0d-c_8vbGyk"
      },
      "outputs": [],
      "source": [
        "inputs = layers.Input(shape=(1,), dtype=tf.string)\n",
        "x = char_vectorizer(inputs)\n",
        "x = char_embed(x)\n",
        "x= layers.Conv1D(64,5,padding=\"same\",activation=\"relu\")(x)\n",
        "x = layers.GlobalMaxPooling1D()(x)\n",
        "output = layers.Dense(num_classes,activation=\"softmax\")(x)\n",
        "\n",
        "model_3 = tf.keras.Model(inputs,output)"
      ]
    },
    {
      "cell_type": "code",
      "execution_count": null,
      "metadata": {
        "colab": {
          "base_uri": "https://localhost:8080/"
        },
        "id": "yE2uSjPTcAfE",
        "outputId": "5903d2ae-403c-4ea6-e0b7-fb26f9b69471"
      },
      "outputs": [
        {
          "name": "stdout",
          "output_type": "stream",
          "text": [
            "Model: \"model\"\n",
            "_________________________________________________________________\n",
            " Layer (type)                Output Shape              Param #   \n",
            "=================================================================\n",
            " input_1 (InputLayer)        [(None, 1)]               0         \n",
            "                                                                 \n",
            " char_vectorizer (TextVecto  (None, 290)               0         \n",
            " rization)                                                       \n",
            "                                                                 \n",
            " char_embed (Embedding)      (None, 290, 25)           1750      \n",
            "                                                                 \n",
            " conv1d (Conv1D)             (None, 290, 64)           8064      \n",
            "                                                                 \n",
            " global_max_pooling1d (Glob  (None, 64)                0         \n",
            " alMaxPooling1D)                                                 \n",
            "                                                                 \n",
            " dense (Dense)               (None, 5)                 325       \n",
            "                                                                 \n",
            "=================================================================\n",
            "Total params: 10139 (39.61 KB)\n",
            "Trainable params: 10139 (39.61 KB)\n",
            "Non-trainable params: 0 (0.00 Byte)\n",
            "_________________________________________________________________\n"
          ]
        }
      ],
      "source": [
        "model_3.compile(loss=\"categorical_crossentropy\",\n",
        "                optimizer=\"Adam\",\n",
        "                metrics=[\"accuracy\"])\n",
        "\n",
        "model_3.summary()"
      ]
    },
    {
      "cell_type": "code",
      "execution_count": null,
      "metadata": {
        "colab": {
          "base_uri": "https://localhost:8080/"
        },
        "id": "0fHffWoAcFcE",
        "outputId": "bdbabb1b-6391-40ae-f4ae-320f91e4a027"
      },
      "outputs": [
        {
          "name": "stdout",
          "output_type": "stream",
          "text": [
            "Epoch 1/5\n",
            "5627/5627 [==============================] - 38s 6ms/step - loss: 0.9038 - accuracy: 0.6472 - val_loss: 0.8098 - val_accuracy: 0.6831\n",
            "Epoch 2/5\n",
            "5627/5627 [==============================] - 31s 6ms/step - loss: 0.7540 - accuracy: 0.7128 - val_loss: 0.7588 - val_accuracy: 0.7078\n",
            "Epoch 3/5\n",
            "5627/5627 [==============================] - 31s 5ms/step - loss: 0.7136 - accuracy: 0.7299 - val_loss: 0.7293 - val_accuracy: 0.7197\n",
            "Epoch 4/5\n",
            "5627/5627 [==============================] - 32s 6ms/step - loss: 0.6864 - accuracy: 0.7416 - val_loss: 0.7141 - val_accuracy: 0.7276\n",
            "Epoch 5/5\n",
            "5627/5627 [==============================] - 31s 6ms/step - loss: 0.6691 - accuracy: 0.7495 - val_loss: 0.7038 - val_accuracy: 0.7334\n"
          ]
        }
      ],
      "source": [
        "hist_model_3 = model_3.fit(train_char_data,\n",
        "                          validation_data = val_char_data,\n",
        "                          epochs=5)"
      ]
    },
    {
      "cell_type": "code",
      "execution_count": null,
      "metadata": {
        "colab": {
          "base_uri": "https://localhost:8080/"
        },
        "id": "vi4ITzhUdtpC",
        "outputId": "e23d6ee6-e1dc-4a8c-e386-622c19f2d200"
      },
      "outputs": [
        {
          "name": "stdout",
          "output_type": "stream",
          "text": [
            "Epoch 1/3\n",
            "562/562 [==============================] - 4s 7ms/step - loss: 1.3456 - accuracy: 0.4262 - val_loss: 1.3379 - val_accuracy: 0.4392\n",
            "Epoch 2/3\n",
            "562/562 [==============================] - 3s 5ms/step - loss: 1.3293 - accuracy: 0.4267 - val_loss: 1.3271 - val_accuracy: 0.4398\n",
            "Epoch 3/3\n",
            "562/562 [==============================] - 3s 6ms/step - loss: 1.3241 - accuracy: 0.4382 - val_loss: 1.3218 - val_accuracy: 0.4415\n"
          ]
        }
      ],
      "source": [
        "history_model_3 = model_3.fit(train_dataset,\n",
        "                              steps_per_epoch=int(0.1*len(train_char_data)),\n",
        "                              epochs=3,\n",
        "                              validation_data=val_dataset,\n",
        "                              validation_steps=int(0.1 * len(val_char_data)))"
      ]
    },
    {
      "cell_type": "code",
      "execution_count": null,
      "metadata": {
        "colab": {
          "base_uri": "https://localhost:8080/"
        },
        "id": "8SSoDMTHfY1y",
        "outputId": "a1e71fec-181c-42ce-fd3a-874d0d869c38"
      },
      "outputs": [
        {
          "name": "stdout",
          "output_type": "stream",
          "text": [
            "945/945 [==============================] - 3s 3ms/step\n"
          ]
        }
      ],
      "source": [
        "model_3_pred = tf.argmax(model_3.predict(val_char_data),axis=1)"
      ]
    },
    {
      "cell_type": "code",
      "execution_count": null,
      "metadata": {
        "collapsed": true,
        "id": "jXU8Ry0nfyis"
      },
      "outputs": [],
      "source": [
        "res = calculate_results(val_labels_encoded, model_3_pred)"
      ]
    },
    {
      "cell_type": "code",
      "execution_count": null,
      "metadata": {
        "colab": {
          "base_uri": "https://localhost:8080/"
        },
        "id": "q_6LpkBvf4o8",
        "outputId": "b1980624-fdff-482d-84b1-aeba226f723d"
      },
      "outputs": [
        {
          "data": {
            "text/plain": [
              "{'accuracy': 64.56374950350853,\n",
              " 'precision': 0.6782268624092723,\n",
              " 'recall': 0.6456374950350854,\n",
              " 'f1': 0.5878779552750117}"
            ]
          },
          "execution_count": 39,
          "metadata": {},
          "output_type": "execute_result"
        }
      ],
      "source": [
        "res"
      ]
    },
    {
      "cell_type": "code",
      "execution_count": null,
      "metadata": {
        "id": "fmmitccShB2B"
      },
      "outputs": [],
      "source": []
    },
    {
      "cell_type": "markdown",
      "metadata": {
        "id": "Lg2aK8ubhCWi"
      },
      "source": [
        "#**MULTIMODAL MODEL**"
      ]
    },
    {
      "cell_type": "code",
      "execution_count": null,
      "metadata": {
        "id": "v51C29nGgCAl"
      },
      "outputs": [],
      "source": [
        "token_inputs = layers.Input(shape=[], dtype = tf.string)\n",
        "x = sent_encoder(token_inputs)\n",
        "token_output = layers.Dense(128, activation=\"relu\")(x)\n",
        "\n",
        "token_model = tf.keras.Model(token_inputs,token_output)"
      ]
    },
    {
      "cell_type": "code",
      "execution_count": null,
      "metadata": {
        "id": "K9_ouaoKiNAY"
      },
      "outputs": [],
      "source": [
        "char_input = layers.Input(shape=(1,), dtype=tf.string)\n",
        "char_vector = char_vectorizer(char_input)\n",
        "char_embedding = char_embed(char_vector)\n",
        "x = layers.Bidirectional(layers.LSTM(24))(char_embedding)\n",
        "char_model = tf.keras.Model(char_input,x)"
      ]
    },
    {
      "cell_type": "code",
      "execution_count": null,
      "metadata": {
        "id": "lif0dhJ1kv9E"
      },
      "outputs": [],
      "source": [
        "concat_layer = layers.Concatenate(name = \"token_char_hybrid\")([token_model.output, char_model.output])"
      ]
    },
    {
      "cell_type": "code",
      "execution_count": null,
      "metadata": {
        "id": "KiHtCC3tla0h"
      },
      "outputs": [],
      "source": [
        "x = layers.Dropout(0.5)(concat_layer)\n",
        "x = layers.Dense(256, activation=\"relu\")(x)\n",
        "x = layers.Dropout(0.5)(x)\n",
        "output = layers.Dense(num_classes, activation=\"softmax\")(x)"
      ]
    },
    {
      "cell_type": "code",
      "execution_count": null,
      "metadata": {
        "id": "ni2VX-gjIv6u"
      },
      "outputs": [],
      "source": [
        "model_4 = tf.keras.Model(inputs=[token_model.input, char_model.input],\n",
        "                     outputs=output)"
      ]
    },
    {
      "cell_type": "code",
      "execution_count": null,
      "metadata": {
        "colab": {
          "base_uri": "https://localhost:8080/"
        },
        "id": "vDJNDWuXI5nM",
        "outputId": "7d87d8b8-00e8-4086-e470-2464d1ecda12"
      },
      "outputs": [
        {
          "name": "stdout",
          "output_type": "stream",
          "text": [
            "Model: \"model_3\"\n",
            "__________________________________________________________________________________________________\n",
            " Layer (type)                Output Shape                 Param #   Connected to                  \n",
            "==================================================================================================\n",
            " input_3 (InputLayer)        [(None, 1)]                  0         []                            \n",
            "                                                                                                  \n",
            " input_2 (InputLayer)        [(None,)]                    0         []                            \n",
            "                                                                                                  \n",
            " char_vectorizer (TextVecto  (None, 290)                  0         ['input_3[0][0]']             \n",
            " rization)                                                                                        \n",
            "                                                                                                  \n",
            " universal_sentence_encoder  (None, 512)                  2567978   ['input_2[0][0]']             \n",
            "  (KerasLayer)                                            24                                      \n",
            "                                                                                                  \n",
            " char_embed (Embedding)      (None, 290, 25)              1750      ['char_vectorizer[1][0]']     \n",
            "                                                                                                  \n",
            " dense_1 (Dense)             (None, 128)                  65664     ['universal_sentence_encoder[0\n",
            "                                                                    ][0]']                        \n",
            "                                                                                                  \n",
            " bidirectional (Bidirection  (None, 48)                   9600      ['char_embed[1][0]']          \n",
            " al)                                                                                              \n",
            "                                                                                                  \n",
            " token_char_hybrid (Concate  (None, 176)                  0         ['dense_1[0][0]',             \n",
            " nate)                                                               'bidirectional[0][0]']       \n",
            "                                                                                                  \n",
            " dropout (Dropout)           (None, 176)                  0         ['token_char_hybrid[0][0]']   \n",
            "                                                                                                  \n",
            " dense_2 (Dense)             (None, 256)                  45312     ['dropout[0][0]']             \n",
            "                                                                                                  \n",
            " dropout_1 (Dropout)         (None, 256)                  0         ['dense_2[0][0]']             \n",
            "                                                                                                  \n",
            " dense_3 (Dense)             (None, 5)                    1285      ['dropout_1[0][0]']           \n",
            "                                                                                                  \n",
            "==================================================================================================\n",
            "Total params: 256921435 (980.08 MB)\n",
            "Trainable params: 123611 (482.86 KB)\n",
            "Non-trainable params: 256797824 (979.61 MB)\n",
            "__________________________________________________________________________________________________\n"
          ]
        }
      ],
      "source": [
        "model_4.compile(loss=\"categorical_crossentropy\",\n",
        "                optimizer=\"Adam\",\n",
        "                metrics=[\"accuracy\"])\n",
        "\n",
        "model_4.summary()"
      ]
    },
    {
      "cell_type": "markdown",
      "metadata": {
        "id": "otnz1jzNKMBl"
      },
      "source": [
        "COMBINING CHAR AND TOKEN DATASETS"
      ]
    },
    {
      "cell_type": "code",
      "execution_count": null,
      "metadata": {
        "id": "HFnc3d48JRu3"
      },
      "outputs": [],
      "source": [
        "train_data_final = tf.data.Dataset.from_tensor_slices((train_sen, train_chars))\n",
        "train_label_final = tf.data.Dataset.from_tensor_slices(train_label_OH)\n",
        "train_dataset_final = (tf.data.Dataset.zip((train_data_final, train_label_final))).batch(32).prefetch(tf.data.AUTOTUNE)"
      ]
    },
    {
      "cell_type": "code",
      "execution_count": null,
      "metadata": {
        "id": "alQ8vsefLAlR"
      },
      "outputs": [],
      "source": [
        "val_data_final = tf.data.Dataset.from_tensor_slices((val_sen, val_chars))\n",
        "val_label_final = tf.data.Dataset.from_tensor_slices(val_label_OH)\n",
        "val_dataset_final = (tf.data.Dataset.zip((val_data_final, val_label_final))).batch(32).prefetch(tf.data.AUTOTUNE)"
      ]
    },
    {
      "cell_type": "code",
      "execution_count": null,
      "metadata": {
        "id": "YScrs_6JLJhM"
      },
      "outputs": [],
      "source": [
        "test_data_final = tf.data.Dataset.from_tensor_slices((test_sen, test_chars))\n",
        "test_label_final = tf.data.Dataset.from_tensor_slices(test_label_OH)\n",
        "test_dataset_final = (tf.data.Dataset.zip((test_data_final, test_label_final))).batch(32).prefetch(tf.data.AUTOTUNE)"
      ]
    },
    {
      "cell_type": "code",
      "execution_count": null,
      "metadata": {
        "colab": {
          "base_uri": "https://localhost:8080/"
        },
        "id": "Wxifyz_1LLwf",
        "outputId": "c6c89726-a7c6-4535-a398-8a4e595dc22c"
      },
      "outputs": [
        {
          "data": {
            "text/plain": [
              "<_PrefetchDataset element_spec=((TensorSpec(shape=(None,), dtype=tf.string, name=None), TensorSpec(shape=(None,), dtype=tf.string, name=None)), TensorSpec(shape=(None, 5), dtype=tf.float64, name=None))>"
            ]
          },
          "execution_count": 53,
          "metadata": {},
          "output_type": "execute_result"
        }
      ],
      "source": [
        "train_dataset_final"
      ]
    },
    {
      "cell_type": "code",
      "execution_count": null,
      "metadata": {
        "colab": {
          "base_uri": "https://localhost:8080/"
        },
        "id": "TazQrRQ8LXII",
        "outputId": "2bd4e5d6-a9df-4896-d8ad-0518ce3f7aff"
      },
      "outputs": [
        {
          "name": "stdout",
          "output_type": "stream",
          "text": [
            "Epoch 1/5\n",
            "562/562 [==============================] - 48s 51ms/step - loss: 0.9615 - accuracy: 0.6152 - val_loss: 0.7685 - val_accuracy: 0.7081\n",
            "Epoch 2/5\n",
            "562/562 [==============================] - 27s 47ms/step - loss: 0.7882 - accuracy: 0.6929 - val_loss: 0.7108 - val_accuracy: 0.7360\n",
            "Epoch 3/5\n",
            "562/562 [==============================] - 26s 46ms/step - loss: 0.7663 - accuracy: 0.7055 - val_loss: 0.6916 - val_accuracy: 0.7414\n",
            "Epoch 4/5\n",
            "562/562 [==============================] - 27s 48ms/step - loss: 0.7335 - accuracy: 0.7221 - val_loss: 0.6652 - val_accuracy: 0.7497\n",
            "Epoch 5/5\n",
            "562/562 [==============================] - 26s 46ms/step - loss: 0.7364 - accuracy: 0.7165 - val_loss: 0.6537 - val_accuracy: 0.7460\n"
          ]
        }
      ],
      "source": [
        "history_model_4 = model_4.fit(train_dataset_final,\n",
        "                              steps_per_epoch=int(0.1*len(train_dataset_final)),\n",
        "                              epochs=5,\n",
        "                              validation_data=val_dataset_final,\n",
        "                              validation_steps=int(0.1 * len(val_dataset_final)))"
      ]
    },
    {
      "cell_type": "code",
      "execution_count": null,
      "metadata": {
        "colab": {
          "base_uri": "https://localhost:8080/"
        },
        "id": "uPR5d9qrLyqC",
        "outputId": "8cfe963c-26c7-43d5-db58-69f36ec13053"
      },
      "outputs": [
        {
          "name": "stdout",
          "output_type": "stream",
          "text": [
            "945/945 [==============================] - 30s 32ms/step - loss: 0.6637 - accuracy: 0.7447\n"
          ]
        },
        {
          "data": {
            "text/plain": [
              "[0.6637133359909058, 0.7446709871292114]"
            ]
          },
          "execution_count": 55,
          "metadata": {},
          "output_type": "execute_result"
        }
      ],
      "source": [
        "model_4.evaluate(val_dataset_final)"
      ]
    },
    {
      "cell_type": "code",
      "execution_count": null,
      "metadata": {
        "colab": {
          "base_uri": "https://localhost:8080/"
        },
        "id": "o6FwMLFdNEBO",
        "outputId": "e43ac054-3b72-4b52-d021-c0dc883d7be7"
      },
      "outputs": [
        {
          "name": "stdout",
          "output_type": "stream",
          "text": [
            "945/945 [==============================] - 21s 19ms/step\n"
          ]
        }
      ],
      "source": [
        "model_4_pred = tf.argmax(model_4.predict(val_dataset_final),axis=1)"
      ]
    },
    {
      "cell_type": "code",
      "execution_count": null,
      "metadata": {
        "id": "gphC1BY4NFhV"
      },
      "outputs": [],
      "source": [
        "model_4_res = calculate_results(val_labels_encoded, model_4_pred)"
      ]
    },
    {
      "cell_type": "code",
      "execution_count": null,
      "metadata": {
        "colab": {
          "base_uri": "https://localhost:8080/"
        },
        "id": "weOpX2QJNH-B",
        "outputId": "52d5dfe1-ff8e-47b4-9e40-04d3cfaaa60d"
      },
      "outputs": [
        {
          "data": {
            "text/plain": [
              "{'accuracy': 74.46709916589434,\n",
              " 'precision': 0.7442121716131139,\n",
              " 'recall': 0.7446709916589435,\n",
              " 'f1': 0.7386371901209492}"
            ]
          },
          "execution_count": 58,
          "metadata": {},
          "output_type": "execute_result"
        }
      ],
      "source": [
        "model_4_res"
      ]
    },
    {
      "cell_type": "markdown",
      "metadata": {
        "id": "1mmXOeuySwRp"
      },
      "source": [
        "**create positional embeddings**"
      ]
    },
    {
      "cell_type": "code",
      "execution_count": null,
      "metadata": {
        "colab": {
          "base_uri": "https://localhost:8080/"
        },
        "collapsed": true,
        "id": "kUy_v1-mNVEo",
        "outputId": "0ebb4015-d80a-45be-c6fb-23c1b7a39e68"
      },
      "outputs": [
        {
          "data": {
            "text/plain": [
              "(180040,)"
            ]
          },
          "execution_count": 70,
          "metadata": {},
          "output_type": "execute_result"
        }
      ],
      "source": [
        "train_df[\"line_number\"].shape"
      ]
    },
    {
      "cell_type": "code",
      "execution_count": null,
      "metadata": {
        "id": "yP1p0mZwTBD4"
      },
      "outputs": [],
      "source": [
        "train_line_numbers_OH = tf.one_hot(train_df[\"line_number\"].to_numpy(), depth=15)\n",
        "val_line_numbers_OH = tf.one_hot(val_df[\"line_number\"].to_numpy(), depth=15)\n",
        "test_line_numbers_OH = tf.one_hot(test_df[\"line_number\"].to_numpy(), depth=15)"
      ]
    },
    {
      "cell_type": "code",
      "execution_count": null,
      "metadata": {
        "id": "yRv0SHl5UD45"
      },
      "outputs": [],
      "source": [
        "train_total_lines_OH = tf.one_hot(train_df[\"total_line\"].to_numpy(), depth=20)\n",
        "val_total_lines_OH = tf.one_hot(val_df[\"total_line\"].to_numpy(), depth=20)\n",
        "test_total_lines_OH = tf.one_hot(test_df[\"total_line\"].to_numpy(), depth=20)"
      ]
    },
    {
      "cell_type": "markdown",
      "metadata": {
        "id": "8sitTlSTVFRN"
      },
      "source": [
        "#**TRIBRID MODEL**"
      ]
    },
    {
      "cell_type": "code",
      "execution_count": null,
      "metadata": {
        "id": "QvryV8UpVn-2"
      },
      "outputs": [],
      "source": [
        "token_inputs = layers.Input(shape=[], dtype = tf.string, name=\"token_input\")\n",
        "x = sent_encoder(token_inputs)\n",
        "token_output = layers.Dense(128, activation=\"relu\")(x)\n",
        "token_model = tf.keras.Model(token_inputs,token_output)\n",
        "\n",
        "\n",
        "\n",
        "char_input = layers.Input(shape=(1,), dtype=tf.string, name= \"char_input\")\n",
        "char_vector = char_vectorizer(char_input)\n",
        "char_embedding = char_embed(char_vector)\n",
        "x = layers.Bidirectional(layers.LSTM(24))(char_embedding)\n",
        "char_model = tf.keras.Model(char_input,x)\n",
        "\n",
        "\n",
        "input = layers.Input(shape=(15,), dtype=tf.int32, name=\"line_num_ip\")\n",
        "x = layers.Dense(32, activation=\"relu\")(input)\n",
        "line_num_model = tf.keras.Model(input,x)\n",
        "\n",
        "\n",
        "input = layers.Input(shape=(20,), dtype=tf.int32, name=\"total line ip\")\n",
        "x = layers.Dense(32, activation=\"relu\")(input)\n",
        "total_line_model = tf.keras.Model(input,x)\n",
        "\n",
        "\n",
        "combined_embed_layer = layers.Concatenate(name = \"token_char_hybrid\")([token_model.output, char_model.output])\n",
        "\n",
        "x = layers.Dense(128, activation=\"relu\")(combined_embed_layer)\n",
        "x = layers.Dropout(0.5)(x)\n",
        "\n",
        "\n",
        "positional_embed = layers.Concatenate(name=\"token_char_positional\")([line_num_model.output, total_line_model.output, x])\n",
        "\n",
        "output_layer = layers.Dense(num_classes, activation=\"softmax\")(positional_embed)\n",
        "\n",
        "model_5 = tf.keras.Model(inputs=[line_num_model.input,\n",
        "                                 total_line_model.input,\n",
        "                                 token_model.input,\n",
        "                                 char_model.input],\n",
        "                         outputs=output_layer)"
      ]
    },
    {
      "cell_type": "code",
      "execution_count": null,
      "metadata": {
        "colab": {
          "base_uri": "https://localhost:8080/"
        },
        "id": "iPdqMIYrZFd6",
        "outputId": "8caba17a-9728-40ae-8de5-2d6d7d69818c"
      },
      "outputs": [
        {
          "name": "stdout",
          "output_type": "stream",
          "text": [
            "Model: \"model_4\"\n",
            "__________________________________________________________________________________________________\n",
            " Layer (type)                Output Shape                 Param #   Connected to                  \n",
            "==================================================================================================\n",
            " char input (InputLayer)     [(None, 1)]                  0         []                            \n",
            "                                                                                                  \n",
            " token input (InputLayer)    [(None,)]                    0         []                            \n",
            "                                                                                                  \n",
            " char_vectorizer (TextVecto  (None, 290)                  0         ['char input[0][0]']          \n",
            " rization)                                                                                        \n",
            "                                                                                                  \n",
            " universal_sentence_encoder  (None, 512)                  2567978   ['token input[0][0]']         \n",
            "  (KerasLayer)                                            24                                      \n",
            "                                                                                                  \n",
            " char_embed (Embedding)      (None, 290, 25)              1750      ['char_vectorizer[0][0]']     \n",
            "                                                                                                  \n",
            " dense (Dense)               (None, 128)                  65664     ['universal_sentence_encoder[0\n",
            "                                                                    ][0]']                        \n",
            "                                                                                                  \n",
            " bidirectional (Bidirection  (None, 48)                   9600      ['char_embed[0][0]']          \n",
            " al)                                                                                              \n",
            "                                                                                                  \n",
            " token_char_hybrid (Concate  (None, 176)                  0         ['dense[0][0]',               \n",
            " nate)                                                               'bidirectional[0][0]']       \n",
            "                                                                                                  \n",
            " line num ip (InputLayer)    [(None, 15)]                 0         []                            \n",
            "                                                                                                  \n",
            " total line ip (InputLayer)  [(None, 20)]                 0         []                            \n",
            "                                                                                                  \n",
            " dense_3 (Dense)             (None, 128)                  22656     ['token_char_hybrid[0][0]']   \n",
            "                                                                                                  \n",
            " dense_1 (Dense)             (None, 32)                   512       ['line num ip[0][0]']         \n",
            "                                                                                                  \n",
            " dense_2 (Dense)             (None, 32)                   672       ['total line ip[0][0]']       \n",
            "                                                                                                  \n",
            " dropout (Dropout)           (None, 128)                  0         ['dense_3[0][0]']             \n",
            "                                                                                                  \n",
            " token_char_positional (Con  (None, 192)                  0         ['dense_1[0][0]',             \n",
            " catenate)                                                           'dense_2[0][0]',             \n",
            "                                                                     'dropout[0][0]']             \n",
            "                                                                                                  \n",
            " dense_4 (Dense)             (None, 5)                    965       ['token_char_positional[0][0]'\n",
            "                                                                    ]                             \n",
            "                                                                                                  \n",
            "==================================================================================================\n",
            "Total params: 256899643 (979.99 MB)\n",
            "Trainable params: 101819 (397.73 KB)\n",
            "Non-trainable params: 256797824 (979.61 MB)\n",
            "__________________________________________________________________________________________________\n"
          ]
        }
      ],
      "source": [
        "model_5.summary()"
      ]
    },
    {
      "cell_type": "code",
      "execution_count": null,
      "metadata": {
        "colab": {
          "base_uri": "https://localhost:8080/",
          "height": 829
        },
        "id": "0yDcgcMFZeue",
        "outputId": "a0f5c045-6291-46c5-dcf7-fea40eed5715"
      },
      "outputs": [
        {
          "data": {
            "image/png": "[encoded data removed]",
            "text/plain": [
              "<IPython.core.display.Image object>"
            ]
          },
          "execution_count": 76,
          "metadata": {},
          "output_type": "execute_result"
        }
      ],
      "source": [
        "plot_model(model_5)"
      ]
    },
    {
      "cell_type": "code",
      "execution_count": null,
      "metadata": {
        "id": "sfknP_w-ZUk-"
      },
      "outputs": [],
      "source": [
        "model_5.compile(loss= tf.keras.losses.CategoricalCrossentropy(label_smoothing=0.2),\n",
        "                optimizer=\"Adam\",\n",
        "                metrics=[\"accuracy\"])"
      ]
    },
    {
      "cell_type": "code",
      "execution_count": null,
      "metadata": {
        "id": "DxHRBcjGamkP"
      },
      "outputs": [],
      "source": [
        "train_pos_data = tf.data.Dataset.from_tensor_slices((train_line_numbers_OH, train_total_lines_OH, train_sen, train_chars))\n",
        "train_pos_label = tf.data.Dataset.from_tensor_slices(train_label_OH)\n",
        "train_pos_dataset = (tf.data.Dataset.zip((train_pos_data, train_pos_label))).batch(32).prefetch(tf.data.AUTOTUNE)"
      ]
    },
    {
      "cell_type": "code",
      "execution_count": null,
      "metadata": {
        "id": "gI73KuBKbmpn"
      },
      "outputs": [],
      "source": [
        "val_pos_data = tf.data.Dataset.from_tensor_slices((val_line_numbers_OH, val_total_lines_OH, val_sen, val_chars))\n",
        "val_pos_label = tf.data.Dataset.from_tensor_slices(val_label_OH)\n",
        "val_pos_dataset = (tf.data.Dataset.zip((val_pos_data, val_pos_label))).batch(32).prefetch(tf.data.AUTOTUNE)"
      ]
    },
    {
      "cell_type": "code",
      "execution_count": null,
      "metadata": {
        "id": "fZHZ3RCQbw15"
      },
      "outputs": [],
      "source": [
        "test_pos_data = tf.data.Dataset.from_tensor_slices((test_line_numbers_OH, test_total_lines_OH, test_sen, test_chars))\n",
        "test_pos_label = tf.data.Dataset.from_tensor_slices(test_label_OH)\n",
        "test_pos_dataset = (tf.data.Dataset.zip((test_pos_data, test_pos_label))).batch(32).prefetch(tf.data.AUTOTUNE)"
      ]
    },
    {
      "cell_type": "code",
      "execution_count": null,
      "metadata": {
        "colab": {
          "base_uri": "https://localhost:8080/"
        },
        "id": "lbul8NvVb4sT",
        "outputId": "3ee88696-0d5a-4545-8894-2b1d5e82393b"
      },
      "outputs": [
        {
          "name": "stdout",
          "output_type": "stream",
          "text": [
            "Epoch 1/10\n",
            "5627/5627 [==============================] - 290s 47ms/step - loss: 0.9607 - accuracy: 0.8194 - val_loss: 0.9122 - val_accuracy: 0.8467\n",
            "Epoch 2/10\n",
            "5627/5627 [==============================] - 260s 46ms/step - loss: 0.9151 - accuracy: 0.8512 - val_loss: 0.9009 - val_accuracy: 0.8533\n",
            "Epoch 3/10\n",
            "5627/5627 [==============================] - 257s 46ms/step - loss: 0.9024 - accuracy: 0.8603 - val_loss: 0.8990 - val_accuracy: 0.8535\n",
            "Epoch 4/10\n",
            "5627/5627 [==============================] - 255s 45ms/step - loss: 0.8944 - accuracy: 0.8668 - val_loss: 0.8956 - val_accuracy: 0.8558\n",
            "Epoch 5/10\n",
            "5627/5627 [==============================] - 254s 45ms/step - loss: 0.8876 - accuracy: 0.8710 - val_loss: 0.8975 - val_accuracy: 0.8555\n",
            "Epoch 6/10\n",
            "5627/5627 [==============================] - 255s 45ms/step - loss: 0.8821 - accuracy: 0.8753 - val_loss: 0.8963 - val_accuracy: 0.8552\n",
            "Epoch 7/10\n",
            "5627/5627 [==============================] - 258s 46ms/step - loss: 0.8778 - accuracy: 0.8788 - val_loss: 0.8988 - val_accuracy: 0.8540\n",
            "Epoch 8/10\n",
            "5627/5627 [==============================] - 258s 46ms/step - loss: 0.8736 - accuracy: 0.8824 - val_loss: 0.8974 - val_accuracy: 0.8549\n",
            "Epoch 9/10\n",
            "5627/5627 [==============================] - 255s 45ms/step - loss: 0.8703 - accuracy: 0.8845 - val_loss: 0.8966 - val_accuracy: 0.8546\n",
            "Epoch 10/10\n",
            "5627/5627 [==============================] - 257s 46ms/step - loss: 0.8668 - accuracy: 0.8872 - val_loss: 0.8989 - val_accuracy: 0.8544\n"
          ]
        }
      ],
      "source": [
        "final_model = model_5.fit(train_pos_dataset,\n",
        "                          epochs=10,\n",
        "                          validation_data=val_pos_dataset)"
      ]
    },
    {
      "cell_type": "code",
      "execution_count": null,
      "metadata": {
        "colab": {
          "base_uri": "https://localhost:8080/"
        },
        "id": "n_IUMt9SclvE",
        "outputId": "f0df1faf-7e4e-4233-859e-7f4a8bd3459a"
      },
      "outputs": [
        {
          "name": "stdout",
          "output_type": "stream",
          "text": [
            "945/945 [==============================] - 23s 25ms/step - loss: 0.8987 - accuracy: 0.8553\n"
          ]
        },
        {
          "data": {
            "text/plain": [
              "[0.8987120389938354, 0.855256199836731]"
            ]
          },
          "execution_count": 83,
          "metadata": {},
          "output_type": "execute_result"
        }
      ],
      "source": [
        "model_5.evaluate(val_pos_dataset)"
      ]
    },
    {
      "cell_type": "code",
      "execution_count": null,
      "metadata": {
        "colab": {
          "base_uri": "https://localhost:8080/"
        },
        "id": "4M9bSq_0pNWw",
        "outputId": "960dcaed-ef05-4ff2-a514-a2b5fd2bad32"
      },
      "outputs": [
        {
          "name": "stdout",
          "output_type": "stream",
          "text": [
            "945/945 [==============================] - 24s 25ms/step\n"
          ]
        },
        {
          "data": {
            "text/plain": [
              "{'accuracy': 85.5256189593539,\n",
              " 'precision': 0.8571586260146912,\n",
              " 'recall': 0.855256189593539,\n",
              " 'f1': 0.8524162943796922}"
            ]
          },
          "execution_count": 92,
          "metadata": {},
          "output_type": "execute_result"
        }
      ],
      "source": [
        "model_5_pred = tf.argmax(model_5.predict(val_pos_dataset),axis=1)\n",
        "res = calculate_results(val_labels_encoded, model_5_pred)\n",
        "res"
      ]
    },
    {
      "cell_type": "code",
      "execution_count": null,
      "metadata": {
        "id": "7G1AO3OdbLaq"
      },
      "outputs": [],
      "source": []
    }
  ],
  "metadata": {
    "accelerator": "GPU",
    "colab": {
      "gpuType": "T4",
      "provenance": []
    },
    "kernelspec": {
      "display_name": "Python 3",
      "name": "python3"
    },
    "language_info": {
      "codemirror_mode": {
        "name": "ipython",
        "version": 3
      },
      "file_extension": ".py",
      "mimetype": "text/x-python",
      "name": "python",
      "nbconvert_exporter": "python",
      "pygments_lexer": "ipython3",
      "version": "3.12.3"
    }
  },
  "nbformat": 4,
  "nbformat_minor": 0
}
